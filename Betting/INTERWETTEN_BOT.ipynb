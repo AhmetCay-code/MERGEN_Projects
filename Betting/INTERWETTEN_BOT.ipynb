{
 "cells": [
  {
   "cell_type": "code",
   "execution_count": 2,
   "id": "015829f0",
   "metadata": {},
   "outputs": [],
   "source": [
    "from selenium import webdriver\n",
    "import chromedriver_binary\n",
    "from selenium.webdriver.chrome.service import Service as ChromeService\n",
    "from webdriver_manager.chrome import ChromeDriverManager\n",
    "import random\n",
    "import time\n",
    "import pandas as pd"
   ]
  },
  {
   "cell_type": "code",
   "execution_count": 16,
   "id": "70ebf764",
   "metadata": {},
   "outputs": [
    {
     "name": "stderr",
     "output_type": "stream",
     "text": [
      "C:\\Users\\ahmet\\AppData\\Local\\Temp\\ipykernel_10200\\1503906442.py:1: DeprecationWarning: executable_path has been deprecated, please pass in a Service object\n",
      "  driver = webdriver.Chrome(ChromeDriverManager().install())\n"
     ]
    }
   ],
   "source": [
    "driver = webdriver.Chrome(ChromeDriverManager().install())"
   ]
  },
  {
   "cell_type": "code",
   "execution_count": 17,
   "id": "4b2e6a37",
   "metadata": {},
   "outputs": [],
   "source": [
    "driver.get('https://www.interwetten.de/en/account/logon?returnUrl=%2fen%2fsportsbook')\n",
    "time.sleep(5)\n",
    "user_name = driver.find_element('xpath','//*[@id=\"UserName\"]')\n",
    "user_name.send_keys('YOUR USERNAME')\n",
    "password = driver.find_element('xpath','//*[@id=\"Password\"]')\n",
    "password.send_keys('YOUR PASSWORD')\n",
    "login = driver.find_element('xpath','//*[@id=\"lnkLogin\"]')\n",
    "login.click()\n",
    "time.sleep(5)\n",
    "driver.get('https://www.interwetten.de/en/sport/leaguelist?leagueIds=405290&offergroupid=8')\n",
    "time.sleep(5)"
   ]
  },
  {
   "cell_type": "code",
   "execution_count": 18,
   "id": "5b98f642",
   "metadata": {},
   "outputs": [],
   "source": [
    "teams = driver.find_elements('xpath',\"//*[@class='info']\")\n",
    "odds = driver.find_elements('xpath',\"//*[@class='b n2']\")\n",
    "\n",
    "odds_list = []\n",
    "for o in range(len(odds)):\n",
    "    odds_list.append(odds[o].text)\n",
    "\n",
    "teams_list = []\n",
    "for t in range(len(teams)):\n",
    "    teams_list.append(teams[t].text)\n",
    "\n",
    "odd_list_over=[]\n",
    "odd_list_under=[]\n",
    "for i in range(len(odds_list)):\n",
    "    if odds_list[i][:8]=='Over 2.5':\n",
    "        odd_list_over.append(odds_list[i][9:13])\n",
    "        odd_list_under.append(odds_list[i][24:28])     \n",
    "\n",
    "df=pd.DataFrame(zip(teams_list,odd_list_over,odd_list_under), columns=['match','over','under'])\n",
    "new = df[\"match\"].str.split(\"-\", n = 1, expand = True)\n",
    "df['Home']=new[0]\n",
    "df['Away']=new[1]\n",
    "df=df.drop('match',axis=1)"
   ]
  },
  {
   "cell_type": "code",
   "execution_count": 15,
   "id": "a5c876d0",
   "metadata": {
    "scrolled": true
   },
   "outputs": [
    {
     "data": {
      "text/html": [
       "<div>\n",
       "<style scoped>\n",
       "    .dataframe tbody tr th:only-of-type {\n",
       "        vertical-align: middle;\n",
       "    }\n",
       "\n",
       "    .dataframe tbody tr th {\n",
       "        vertical-align: top;\n",
       "    }\n",
       "\n",
       "    .dataframe thead th {\n",
       "        text-align: right;\n",
       "    }\n",
       "</style>\n",
       "<table border=\"1\" class=\"dataframe\">\n",
       "  <thead>\n",
       "    <tr style=\"text-align: right;\">\n",
       "      <th></th>\n",
       "      <th>over</th>\n",
       "      <th>under</th>\n",
       "      <th>Home</th>\n",
       "      <th>Away</th>\n",
       "    </tr>\n",
       "  </thead>\n",
       "  <tbody>\n",
       "    <tr>\n",
       "      <th>0</th>\n",
       "      <td>1.95</td>\n",
       "      <td>1.75</td>\n",
       "      <td>BB Bodrumspor</td>\n",
       "      <td>Samsunspor</td>\n",
       "    </tr>\n",
       "    <tr>\n",
       "      <th>1</th>\n",
       "      <td>1.80</td>\n",
       "      <td>1.90</td>\n",
       "      <td>Manisa Futbol Kulubu</td>\n",
       "      <td>Tuzlaspor</td>\n",
       "    </tr>\n",
       "    <tr>\n",
       "      <th>2</th>\n",
       "      <td>1.75</td>\n",
       "      <td>1.95</td>\n",
       "      <td>Sakaryaspor</td>\n",
       "      <td>Genclerbirligi SK</td>\n",
       "    </tr>\n",
       "    <tr>\n",
       "      <th>3</th>\n",
       "      <td>1.85</td>\n",
       "      <td>1.85</td>\n",
       "      <td>Yeni Malatyaspor</td>\n",
       "      <td>Ankara Keciorengucu</td>\n",
       "    </tr>\n",
       "    <tr>\n",
       "      <th>4</th>\n",
       "      <td>1.90</td>\n",
       "      <td>1.80</td>\n",
       "      <td>Eyupspor</td>\n",
       "      <td>Boluspor</td>\n",
       "    </tr>\n",
       "    <tr>\n",
       "      <th>5</th>\n",
       "      <td>1.80</td>\n",
       "      <td>1.90</td>\n",
       "      <td>Erzurumspor FK</td>\n",
       "      <td>Altinordu FK</td>\n",
       "    </tr>\n",
       "  </tbody>\n",
       "</table>\n",
       "</div>"
      ],
      "text/plain": [
       "   over under                   Home                  Away\n",
       "0  1.95  1.75         BB Bodrumspor             Samsunspor\n",
       "1  1.80  1.90  Manisa Futbol Kulubu              Tuzlaspor\n",
       "2  1.75  1.95           Sakaryaspor      Genclerbirligi SK\n",
       "3  1.85  1.85      Yeni Malatyaspor    Ankara Keciorengucu\n",
       "4  1.90  1.80              Eyupspor               Boluspor\n",
       "5  1.80  1.90        Erzurumspor FK           Altinordu FK"
      ]
     },
     "execution_count": 15,
     "metadata": {},
     "output_type": "execute_result"
    }
   ],
   "source": [
    "df"
   ]
  },
  {
   "cell_type": "code",
   "execution_count": null,
   "id": "d0d02ba4",
   "metadata": {},
   "outputs": [],
   "source": [
    "# under/over ve mac sonucu bahislerini ve takim isimlerini cek."
   ]
  },
  {
   "cell_type": "code",
   "execution_count": 20,
   "id": "882c23d2",
   "metadata": {},
   "outputs": [],
   "source": [
    "select_odd1 = driver.find_element('xpath','//*[@id=\"TBL_Content_1024\"]/tbody/tr[3]/td[2]/table/tbody/tr[1]/td[1]')\n",
    "\n",
    "select_odd1.click()\n",
    "\n",
    "select_odd2 = driver.find_element('xpath','//*[@id=\"TBL_Content_1024\"]/tbody/tr[4]/td[2]/table/tbody/tr[1]/td[1]')\n",
    "\n",
    "select_odd2.click()\n",
    "\n",
    "bet_amount = driver.find_element('xpath','//*[@id=\"amount_combi\"]')\n",
    "\n",
    "bet_amount.send_keys('5')\n",
    "\n",
    "submit=driver.find_element('xpath','//*[@id=\"BS_Button_Submit\"]')\n",
    "\n",
    "submit.click()"
   ]
  },
  {
   "cell_type": "code",
   "execution_count": null,
   "id": "82d12a9c",
   "metadata": {},
   "outputs": [],
   "source": []
  }
 ],
 "metadata": {
  "kernelspec": {
   "display_name": "Python 3 (ipykernel)",
   "language": "python",
   "name": "python3"
  },
  "language_info": {
   "codemirror_mode": {
    "name": "ipython",
    "version": 3
   },
   "file_extension": ".py",
   "mimetype": "text/x-python",
   "name": "python",
   "nbconvert_exporter": "python",
   "pygments_lexer": "ipython3",
   "version": "3.9.12"
  }
 },
 "nbformat": 4,
 "nbformat_minor": 5
}
